{
 "cells": [
  {
   "cell_type": "markdown",
   "id": "7cfd00be-3711-4722-bde0-6edccb77dcf0",
   "metadata": {},
   "source": [
    "# Data Science Tools and Ecosystem"
   ]
  },
  {
   "cell_type": "markdown",
   "id": "a2c4eaf4-ef2a-4d2d-8779-2a1500c9c13f",
   "metadata": {},
   "source": [
    "## In this notebook, Data Science Tools and Ecosystem are summarized"
   ]
  },
  {
   "cell_type": "markdown",
   "id": "20ffc588-3489-43a4-afa0-8cda6b54cbb0",
   "metadata": {},
   "source": [
    "Objectives:\n",
    "\n",
    "+ able to use jupyter notebook basic command\n",
    "+ able to code write markdown in jupyter notebook\n",
    "+ list the popular langagues for Data Science\n"
   ]
  },
  {
   "cell_type": "markdown",
   "id": "99ad9d40-43be-4f50-9804-07b98d2329db",
   "metadata": {},
   "source": [
    "Some of the Popular languages that Data Scientist use are:\n",
    "\n",
    "1. Python\n",
    "2. Julia\n",
    "3. R\n",
    "4. C++"
   ]
  },
  {
   "cell_type": "markdown",
   "id": "1d44e3f4-ba8f-4d51-9e02-0c4b59684f11",
   "metadata": {},
   "source": [
    "Some of the commonly used libraries used by Data Scientist include:\n",
    "1. Numpy\n",
    "2. Scipy\n",
    "3. Matplotlib\n",
    "4. ggplot\n",
    "5. plotly"
   ]
  },
  {
   "cell_type": "markdown",
   "id": "e6d10827-8c93-4f13-9b35-f1ae4608cef4",
   "metadata": {},
   "source": [
    "| Data Science Tool |\n",
    "| ----------------- |\n",
    "| Anaconda  |\n",
    "| Google Colab |\n",
    "| IBM Watson Studio |"
   ]
  },
  {
   "cell_type": "markdown",
   "id": "2c8dfd46-fbc3-4cbd-bb4e-823e5b275188",
   "metadata": {},
   "source": [
    "### Below are a few examples of evaluating arithmetic expressions in Python"
   ]
  },
  {
   "cell_type": "code",
   "execution_count": 1,
   "id": "c5137f26-317a-4d5c-82b9-de6b2d679e50",
   "metadata": {
    "tags": []
   },
   "outputs": [
    {
     "data": {
      "text/plain": [
       "17"
      ]
     },
     "execution_count": 1,
     "metadata": {},
     "output_type": "execute_result"
    }
   ],
   "source": [
    "#This a simple arithmetic expression to multiply then add integers\n",
    "(3*4)+5"
   ]
  },
  {
   "cell_type": "code",
   "execution_count": 2,
   "id": "6d8b10e7-bed6-4b01-b006-8d5f0d7a015b",
   "metadata": {
    "tags": []
   },
   "outputs": [
    {
     "name": "stdout",
     "output_type": "stream",
     "text": [
      "3.3333333333333335\n"
     ]
    }
   ],
   "source": [
    "# This will convert 200 minutes to Hours by dividing by 60\n",
    "minutes = 200\n",
    "hours = minutes/60\n",
    "print(hours)"
   ]
  },
  {
   "cell_type": "markdown",
   "id": "3123eba7-37fb-45f5-ba37-721869385b87",
   "metadata": {
    "jupyter": {
     "outputs_hidden": true
    },
    "tags": []
   },
   "source": [
    "## Author\n",
    "Wahyu Bornok Augus Sinurat"
   ]
  },
  {
   "cell_type": "code",
   "execution_count": null,
   "id": "d858d5fc-6ebf-4ab5-b299-ecf79e55397d",
   "metadata": {},
   "outputs": [],
   "source": []
  }
 ],
 "metadata": {
  "kernelspec": {
   "display_name": "Python",
   "language": "python",
   "name": "conda-env-python-py"
  },
  "language_info": {
   "codemirror_mode": {
    "name": "ipython",
    "version": 3
   },
   "file_extension": ".py",
   "mimetype": "text/x-python",
   "name": "python",
   "nbconvert_exporter": "python",
   "pygments_lexer": "ipython3",
   "version": "3.7.12"
  }
 },
 "nbformat": 4,
 "nbformat_minor": 5
}
